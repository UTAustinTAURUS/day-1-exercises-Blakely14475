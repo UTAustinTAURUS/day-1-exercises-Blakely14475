{
 "cells": [
  {
   "cell_type": "markdown",
   "metadata": {},
   "source": [
    "# TAURUS + REU 2019\n",
    "# Introduction to Python Day 2\n",
    "# If Statements, For Loops, Functions & Plotting\n",
    "\n",
    "Welcome back! By now you should be comfortable with some basic Python syntax. Let's get into something a bit more interesting today: control structure! This allows you to actually build up your code.\n",
    "\n",
    "Today we will go over if statements, for loops, and functions, and then we will do a debugging exercise.\n",
    "\n",
    "First let's import some stuff we'll need today: numpy and matplotlib."
   ]
  },
  {
   "cell_type": "code",
   "execution_count": 1,
   "metadata": {},
   "outputs": [],
   "source": [
    "import numpy as np\n",
    "import matplotlib.pyplot as plt\n",
    "\n",
    "% matplotlib inline\n",
    "#This part allows you to output plotting images in the notebook."
   ]
  },
  {
   "cell_type": "markdown",
   "metadata": {},
   "source": [
    "## If statement\n",
    "\n",
    "This is a conditional statement where the code will proceed only if the condition is met. Otherwise, the code will stop, or move on to the next condition.\n",
    "\n",
    "The simplest if statement is a true/false boolean, but you can impose any of the conditions that we learned yesterday. \n",
    "\n",
    "Remember that '==' is the equivalence condition, while '=' is a definition.\n",
    "\n",
    "The syntax is the following:\n",
    "\n",
    "    if condition is met:\n",
    "        do something\n",
    "        \n",
    "If you want to give the code a different option, use 'else'.\n",
    "\n",
    "    if condition is met:\n",
    "        do something\n",
    "    else:\n",
    "        do a different thing\n",
    "        \n",
    "Thus, the code will only move to 'else' if the first coniditon is false. To include multiple options, use 'elif', short for 'else if'. \n",
    "\n",
    "    if condition is met:\n",
    "        do something\n",
    "    elif different condition is met:\n",
    "        do something else\n",
    "    else:\n",
    "        do another thing\n",
    "        \n",
    "### Question 1: Try a simple one: if 1 equals 1, print \"yes!\" Write a second one such that if one does not equal one, print \"no!\" What happens?"
   ]
  },
  {
   "cell_type": "code",
   "execution_count": 9,
   "metadata": {},
   "outputs": [
    {
     "name": "stdout",
     "output_type": "stream",
     "text": [
      "yes!\n"
     ]
    }
   ],
   "source": [
    "if 1==1:\n",
    "    print('yes!')\n",
    "else:\n",
    "    print('no')"
   ]
  },
  {
   "cell_type": "markdown",
   "metadata": {},
   "source": [
    "You probably noticed that the code stopped, since the statement is false. If we don't want the code to stop, we would put in an else statement. Try it again: \n",
    "\n",
    "### Change your if statement from above. If one does not equal one, print \"yes!\" If that's not true, print \"1 always equals 1, duh.\" "
   ]
  },
  {
   "cell_type": "code",
   "execution_count": null,
   "metadata": {},
   "outputs": [],
   "source": [
    "#solution here"
   ]
  },
  {
   "cell_type": "markdown",
   "metadata": {},
   "source": [
    "### Question 2: Let's review some boolean logic. Go ahead and define that b = 10. Write an if statement that checks whether b is equal to 10 or 2, and if so, print the value of b."
   ]
  },
  {
   "cell_type": "code",
   "execution_count": 13,
   "metadata": {},
   "outputs": [
    {
     "name": "stdout",
     "output_type": "stream",
     "text": [
      "10\n"
     ]
    }
   ],
   "source": [
    "b = 10\n",
    "if b == 10 or b ==2:\n",
    "    print(b)"
   ]
  },
  {
   "cell_type": "markdown",
   "metadata": {},
   "source": [
    "Like we mentioned yesterday, the syntax of arrays and indices can all be combined. \n",
    "\n",
    "### Question 3: Create a linear array with 10 values between 0 and 1, inclusive.  Write an if statement that checks whether the last entry in the array is less than one. If so, have it print out the last entry. If not, have it print out \"[last entry] is not less than one.\" \n",
    "\n"
   ]
  },
  {
   "cell_type": "code",
   "execution_count": 14,
   "metadata": {},
   "outputs": [
    {
     "name": "stdout",
     "output_type": "stream",
     "text": [
      "linarray[9] is not less than one\n"
     ]
    }
   ],
   "source": [
    "linarray = np.linspace(0, 1, 10)\n",
    "if linarray[9] < 1: #we could use linarray[-1] to simply specify that we want the \"negative first\" or final entry\n",
    "    #this will be helpful if we cannot remember how many values the array has\n",
    "    print(linarray[9])\n",
    "else:\n",
    "    print('linarray[9] is not less than one')"
   ]
  },
  {
   "cell_type": "markdown",
   "metadata": {},
   "source": [
    "## For loops\n",
    "\n",
    "For loops allow you to loop through the values in an array and perform some operation or check a condition. The basic syntax is \"for x in y.\" \n",
    "\n",
    "    for x in y:\n",
    "        do something\n",
    "        \n",
    "\"X\" refers to the element within \"Y\", so \"X\" can be any random character, but \"Y\" refers to the array or list you're looping over. \n",
    "\n",
    "### Question 4: Here's a list. Try writing a for loop that prints out each element of the list individually.\n",
    "\n"
   ]
  },
  {
   "cell_type": "code",
   "execution_count": 19,
   "metadata": {},
   "outputs": [
    {
     "name": "stdout",
     "output_type": "stream",
     "text": [
      "Shrek Donkey Fiona Lord Farquaad\n",
      "Shrek Donkey Fiona Lord Farquaad\n",
      "Shrek Donkey Fiona Lord Farquaad\n",
      "Shrek Donkey Fiona Lord Farquaad\n",
      "Shrek Donkey Fiona Lord Farquaad\n",
      "Shrek Donkey Fiona Lord Farquaad\n",
      "Shrek Donkey Fiona Lord Farquaad\n"
     ]
    }
   ],
   "source": [
    "beemovie = ['Barry B. Benson', 'Vanessa Bloome', 'Ray Liotta as Ray Liotta']\n",
    "\n",
    "shrek = ['Shrek', 'Donkey', 'Fiona', 'Lord Farquaad']\n",
    "for B in beemovie:\n",
    "    print('Shrek', 'Donkey', 'Fiona', 'Lord Farquaad')\n",
    "for S in shrek:\n",
    "    print('Shrek', 'Donkey', 'Fiona', 'Lord Farquaad')"
   ]
  },
  {
   "cell_type": "markdown",
   "metadata": {},
   "source": [
    "Another way to write a for loop is to loop over the indices. This allows you, for instance, to index multiple arrays, or to keep track of both the index and the value of an array. You'll see what I mean in a minute. If you do it this way, the syntax goes like this:\n",
    "\n",
    "    for i in range(len(array)):\n",
    "        do something to array[i]\n",
    "        \n",
    "Now \"i\" is the index value rather than the value of the array. Here's an example:"
   ]
  },
  {
   "cell_type": "code",
   "execution_count": 22,
   "metadata": {},
   "outputs": [
    {
     "name": "stdout",
     "output_type": "stream",
     "text": [
      "a = 0.0\n",
      "a = 0.5\n",
      "a = 1.0\n",
      "a = 1.5\n",
      "a = 2.0\n",
      "a = 2.5\n",
      "a = 3.0\n",
      "a = 3.5\n",
      "a = 4.0\n",
      "a = 4.5\n",
      "a = 5.0\n",
      "a = 5.5\n",
      "a = 6.0\n",
      "a = 6.5\n",
      "a = 7.0\n",
      "a = 7.5\n",
      "a = 8.0\n",
      "a = 8.5\n",
      "a = 9.0\n",
      "a = 9.5\n",
      "a = 10.0\n",
      "the 0 th value of array is 0.0\n",
      "the 1 th value of array is 0.5\n",
      "the 2 th value of array is 1.0\n",
      "the 3 th value of array is 1.5\n",
      "the 4 th value of array is 2.0\n",
      "the 5 th value of array is 2.5\n",
      "the 6 th value of array is 3.0\n",
      "the 7 th value of array is 3.5\n",
      "the 8 th value of array is 4.0\n",
      "the 9 th value of array is 4.5\n",
      "the 10 th value of array is 5.0\n",
      "the 11 th value of array is 5.5\n",
      "the 12 th value of array is 6.0\n",
      "the 13 th value of array is 6.5\n",
      "the 14 th value of array is 7.0\n",
      "the 15 th value of array is 7.5\n",
      "the 16 th value of array is 8.0\n",
      "the 17 th value of array is 8.5\n",
      "the 18 th value of array is 9.0\n",
      "the 19 th value of array is 9.5\n",
      "the 20 th value of array is 10.0\n"
     ]
    }
   ],
   "source": [
    "array = np.linspace(0, 10, 21)\n",
    "\n",
    "for a in array:\n",
    "    print(\"a =\", a)\n",
    "\n",
    "for a in range(len(array)):\n",
    "    print(\"the\", a, \"th value of array is\", array[a])"
   ]
  },
  {
   "cell_type": "markdown",
   "metadata": {},
   "source": [
    "Combo time! You can also embed if statements into for loops, which checks the conditional statement for every value of the array. \n",
    "\n",
    "### Question 5. Create an array containing the values 0.5, 2, 3, 7. Loop over the array to check three different conditional statements inside the for loop:  check whether each value + 2 a) is less than 5, b) equal to 5, or c) greater than 5. If so, print out that statement (i.e., 'x + 2 < 5'). \n",
    "\n"
   ]
  },
  {
   "cell_type": "code",
   "execution_count": 37,
   "metadata": {},
   "outputs": [
    {
     "name": "stdout",
     "output_type": "stream",
     "text": [
      "[ 0.   0.5  1.   1.5  2.   2.5  3.   3.5  4.   4.5  5.   5.5  6.   6.5\n",
      "  7.   7.5  8.   8.5  9.   9.5 10. ]\n",
      "[ 2.   2.5  3.   3.5  4.   4.5  5.   5.5  6.   6.5  7.   7.5  8.   8.5\n",
      "  9.   9.5 10.  10.5 11.  11.5 12. ]\n",
      "0.5\n",
      "2.5 less than 5\n",
      "4.0 less than 5\n",
      "5.0 equals 5\n",
      "9.0 greater than 5\n"
     ]
    }
   ],
   "source": [
    "linarray = np.linspace(0, 10, 21)\n",
    "print(linarray)\n",
    "linarray2 = linarray + 2\n",
    "print(linarray2)\n",
    "a = 0.5 #be sure that if youre actually writing code you dont reuse and redefine variables. it will ruin your life\n",
    "print(a)\n",
    "b = 2\n",
    "c = 3\n",
    "d = 7\n",
    "array = np.array([a, b, c, d]) #we cannot use arithmetic with lists, so we want to make sure this is an array\n",
    "array2 = array + 2 #i was going to call this 'list' but 'list' already means something in python, so it turned green. \n",
    "#never define a term that turns green bc youll ruin its meaning within python and cause problems\n",
    "for i in array2:\n",
    "    if i < 5:\n",
    "        print(i, 'less than 5')\n",
    "    elif i == 5: #we're already inside an if statement, so we cannot use 'if' for sequential items on our list. \n",
    "        #we want to you 'else if' instead\n",
    "        print(i, 'equals 5')\n",
    "    elif i > 5:\n",
    "        print(i, 'greater than 5')"
   ]
  },
  {
   "cell_type": "markdown",
   "metadata": {},
   "source": [
    "## User-defined functions\n",
    "\n",
    "This is where the true programming comes in. Basically any code you write will be a series of functions that accomplish some task. Functions include mathematical expressions, list/array sorting, MCMC codes, statistical operations, and many more. \n",
    "\n",
    "The syntax goes like this:\n",
    "\n",
    "    def function(a, b, c):\n",
    "        do something\n",
    "        return something\n",
    "    \n",
    "First you define the function using \"def\". The definition of the function includes the name of the function, which you will use to call it, and the arguments required for the function to work. You should leave the arguments as variables, and you will give the variables values when you call the function.\n",
    "\n",
    "Inside the function, some operation will be performed on the variables you've provided. However, the function won't actually give you any output unless you use return. Return tells the function what to give you back.\n",
    "\n",
    "Here's an example:"
   ]
  },
  {
   "cell_type": "code",
   "execution_count": 38,
   "metadata": {},
   "outputs": [],
   "source": [
    "def line(m, b, x):\n",
    "    y = m * x + b\n",
    "    return y"
   ]
  },
  {
   "cell_type": "markdown",
   "metadata": {},
   "source": [
    "Now, to run the function, you can supply values for the arguments. You can feed the function an array as well.\n",
    "\n"
   ]
  },
  {
   "cell_type": "code",
   "execution_count": 39,
   "metadata": {},
   "outputs": [
    {
     "name": "stdout",
     "output_type": "stream",
     "text": [
      "5 [2.         2.05050505 2.1010101  2.15151515 2.2020202  2.25252525\n",
      " 2.3030303  2.35353535 2.4040404  2.45454545 2.50505051 2.55555556\n",
      " 2.60606061 2.65656566 2.70707071 2.75757576 2.80808081 2.85858586\n",
      " 2.90909091 2.95959596 3.01010101 3.06060606 3.11111111 3.16161616\n",
      " 3.21212121 3.26262626 3.31313131 3.36363636 3.41414141 3.46464646\n",
      " 3.51515152 3.56565657 3.61616162 3.66666667 3.71717172 3.76767677\n",
      " 3.81818182 3.86868687 3.91919192 3.96969697 4.02020202 4.07070707\n",
      " 4.12121212 4.17171717 4.22222222 4.27272727 4.32323232 4.37373737\n",
      " 4.42424242 4.47474747 4.52525253 4.57575758 4.62626263 4.67676768\n",
      " 4.72727273 4.77777778 4.82828283 4.87878788 4.92929293 4.97979798\n",
      " 5.03030303 5.08080808 5.13131313 5.18181818 5.23232323 5.28282828\n",
      " 5.33333333 5.38383838 5.43434343 5.48484848 5.53535354 5.58585859\n",
      " 5.63636364 5.68686869 5.73737374 5.78787879 5.83838384 5.88888889\n",
      " 5.93939394 5.98989899 6.04040404 6.09090909 6.14141414 6.19191919\n",
      " 6.24242424 6.29292929 6.34343434 6.39393939 6.44444444 6.49494949\n",
      " 6.54545455 6.5959596  6.64646465 6.6969697  6.74747475 6.7979798\n",
      " 6.84848485 6.8989899  6.94949495 7.        ]\n"
     ]
    }
   ],
   "source": [
    "one_value = line(1, 2, 3)\n",
    "array_of_values = line(1, 2, np.linspace(0, 5, 100))\n",
    "\n",
    "print(one_value, array_of_values)"
   ]
  },
  {
   "cell_type": "markdown",
   "metadata": {},
   "source": [
    "### Question 6: Write a function that takes the y-intercept, x value, and a constant m for a quadratic curve of the form y = mx^2 + b."
   ]
  },
  {
   "cell_type": "code",
   "execution_count": 54,
   "metadata": {},
   "outputs": [
    {
     "name": "stdout",
     "output_type": "stream",
     "text": [
      "[55.         53.00020406 51.04122028 49.12304867 47.24568922 45.40914192\n",
      " 43.6134068  41.85848383 40.14437302 38.47107438 36.8385879  35.24691358\n",
      " 33.69605142 32.18600143 30.7167636  29.28833792 27.90072442 26.55392307\n",
      " 25.24793388 23.98275686 22.758392   21.5748393  20.43209877 19.33017039\n",
      " 18.26905418 17.24875013 16.26925824 15.33057851 14.43271095 13.57565555\n",
      " 12.7594123  11.98398123 11.24936231 10.55555556  9.90256096  9.29037853\n",
      "  8.71900826  8.18845016  7.69870421  7.24977043  6.84164881  6.47433935\n",
      "  6.14784206  5.86215692  5.61728395  5.41322314  5.24997449  5.12753801\n",
      "  5.04591368  5.00510152  5.00510152  5.04591368  5.12753801  5.24997449\n",
      "  5.41322314  5.61728395  5.86215692  6.14784206  6.47433935  6.84164881\n",
      "  7.24977043  7.69870421  8.18845016  8.71900826  9.29037853  9.90256096\n",
      " 10.55555556 11.24936231 11.98398123 12.7594123  13.57565555 14.43271095\n",
      " 15.33057851 16.26925824 17.24875013 18.26905418 19.33017039 20.43209877\n",
      " 21.5748393  22.758392   23.98275686 25.24793388 26.55392307 27.90072442\n",
      " 29.28833792 30.7167636  32.18600143 33.69605142 35.24691358 36.8385879\n",
      " 38.47107438 40.14437302 41.85848383 43.6134068  45.40914192 47.24568922\n",
      " 49.12304867 51.04122028 53.00020406 55.        ]\n"
     ]
    }
   ],
   "source": [
    "def quad(m, b, x): #we define the quadratic function as having variables of m, b, and x\n",
    "    y = m* x**2 + b #now we mathematically define the function\n",
    "    return y #we command it to return us the function\n",
    "y_value = quad(2, 5, np.linspace(-5, 5, 100)) #we give it a short name for this particular function, letting m equal 2\n",
    "#b equal 5, and x be a string of 100 equal values between negative 5 and 5\n",
    "print(y_value) #we finally command it to show us some values for the function within these parameters"
   ]
  },
  {
   "cell_type": "markdown",
   "metadata": {},
   "source": [
    "## Plotting!\n",
    "\n",
    "You will probably spend the majority of your time in astronomy making pretty plots so let's explore that now! You will need to use matplotlib.pyplot, which most people import at plt.\n",
    "\n",
    "The only required arguments are x-values and y-values, and anything else is #aesthetic.\n",
    "\n",
    "So the syntax is like this:\n",
    "\n",
    "    plt.plot(x, y, kwargs)\n",
    "    \n",
    "You can also do a log10 plot using plt.loglog().\n",
    "\n",
    "Some of the customizations include:\n",
    "\n",
    "    markerstyle: o (circles), ^ (triangles), * (stars), . (small points), etc\n",
    "    linestyle: - (solid line), -- (dotted line), : (fine dotted line), etc\n",
    "    color: b (blue), r (red), c (cyan), m (magenta), y (yellow), k (black), g (green), etc\n",
    "    alpha: opacity, a float set between 0 and 1\n",
    "    label: name of that dataset to be used in the legend\n",
    "    \n",
    "Every keyword argument besides alpha should be given as a string.\n",
    "    \n",
    "After plt.plot(), you might want to add some other information.\n",
    "\n",
    "    plt.xlabel() - x axis label\n",
    "    plt.ylabel() - y axis label\n",
    "    plt.axis([]) - in the brackets list x_lowerlimit, x_upperlimit, y_lowerlimit, y_upperlimit for axis display\n",
    "    plt.title() - plot title\n",
    "    plt.legend() - adds a legend, but plt.plot() must contain a \"label\" argument\n",
    "    plt.show() - displays your plot\n",
    "    \n",
    "Here's a detailed example. By the way, you can use shorthand for the marker/line style and the color, so instead of typing out \"markerstyle=blah, color=blah\", it will also understand simply \"ob\" (blue circles).\n",
    "\n",
    "Also, for labeling purposes, you can use Greek letters the same way as in LaTeX."
   ]
  },
  {
   "cell_type": "code",
   "execution_count": 53,
   "metadata": {},
   "outputs": [
    {
     "data": {
      "image/png": "[encoded data removed]",
      "text/plain": [
       "<Figure size 432x288 with 1 Axes>"
      ]
     },
     "metadata": {},
     "output_type": "display_data"
    }
   ],
   "source": [
    "a = np.array([0, 1, 2, 3])\n",
    "b = np.array([10, 9, 8, 7])\n",
    "\n",
    "plt.plot(a[:2], b[:2], 'ob', markersize=15, label='blue circles') #plot the first two values as blue circles\n",
    "plt.plot(a[2:], b[2:], '^m', label='pink triangles') #plot the second two values as magenta triangles\n",
    "plt.xlabel(r'$\\alpha$', fontsize=16)\n",
    "plt.ylabel(r'$\\beta$', fontsize=16)\n",
    "plt.title('scatter plot')\n",
    "plt.legend(loc=1, frameon=True) #'loc' moves the legend around, frameon puts a box around the legend\n",
    "plt.show()"
   ]
  },
  {
   "cell_type": "markdown",
   "metadata": {},
   "source": [
    "### Question 7: Run your quadratic function for y = 2 * x^2 + 5, where x goes between -5 and 5. Plot it with a green dashed line and label it in the legend. Include labels and a title."
   ]
  },
  {
   "cell_type": "code",
   "execution_count": 12,
   "metadata": {},
   "outputs": [
    {
     "name": "stdout",
     "output_type": "stream",
     "text": [
      "[55.         53.00020406 51.04122028 49.12304867 47.24568922 45.40914192\n",
      " 43.6134068  41.85848383 40.14437302 38.47107438 36.8385879  35.24691358\n",
      " 33.69605142 32.18600143 30.7167636  29.28833792 27.90072442 26.55392307\n",
      " 25.24793388 23.98275686 22.758392   21.5748393  20.43209877 19.33017039\n",
      " 18.26905418 17.24875013 16.26925824 15.33057851 14.43271095 13.57565555\n",
      " 12.7594123  11.98398123 11.24936231 10.55555556  9.90256096  9.29037853\n",
      "  8.71900826  8.18845016  7.69870421  7.24977043  6.84164881  6.47433935\n",
      "  6.14784206  5.86215692  5.61728395  5.41322314  5.24997449  5.12753801\n",
      "  5.04591368  5.00510152  5.00510152  5.04591368  5.12753801  5.24997449\n",
      "  5.41322314  5.61728395  5.86215692  6.14784206  6.47433935  6.84164881\n",
      "  7.24977043  7.69870421  8.18845016  8.71900826  9.29037853  9.90256096\n",
      " 10.55555556 11.24936231 11.98398123 12.7594123  13.57565555 14.43271095\n",
      " 15.33057851 16.26925824 17.24875013 18.26905418 19.33017039 20.43209877\n",
      " 21.5748393  22.758392   23.98275686 25.24793388 26.55392307 27.90072442\n",
      " 29.28833792 30.7167636  32.18600143 33.69605142 35.24691358 36.8385879\n",
      " 38.47107438 40.14437302 41.85848383 43.6134068  45.40914192 47.24568922\n",
      " 49.12304867 51.04122028 53.00020406 55.        ]\n"
     ]
    },
    {
     "data": {
      "image/png": "[encoded data removed]",
      "text/plain": [
       "<Figure size 432x288 with 1 Axes>"
      ]
     },
     "metadata": {},
     "output_type": "display_data"
    },
    {
     "ename": "NameError",
     "evalue": "name 'fig2' is not defined",
     "output_type": "error",
     "traceback": [
      "\u001b[0;31m---------------------------------------------------------------------------\u001b[0m",
      "\u001b[0;31mNameError\u001b[0m                                 Traceback (most recent call last)",
      "\u001b[0;32m<ipython-input-12-4099ec9dec3c>\u001b[0m in \u001b[0;36m<module>\u001b[0;34m()\u001b[0m\n\u001b[1;32m     23\u001b[0m \u001b[0mplt\u001b[0m\u001b[0;34m.\u001b[0m\u001b[0mshow\u001b[0m\u001b[0;34m(\u001b[0m\u001b[0;34m)\u001b[0m\u001b[0;34m\u001b[0m\u001b[0m\n\u001b[1;32m     24\u001b[0m \u001b[0;34m\u001b[0m\u001b[0m\n\u001b[0;32m---> 25\u001b[0;31m \u001b[0mfig2\u001b[0m \u001b[0;31m# this will create a new figure that i can plot\u001b[0m\u001b[0;34m\u001b[0m\u001b[0m\n\u001b[0m",
      "\u001b[0;31mNameError\u001b[0m: name 'fig2' is not defined"
     ]
    }
   ],
   "source": [
    "fig = plt.figure() #this creates a variable associated with all plot-based commands that come after this\n",
    "def quad(m, b, x): #we define the quadratic function as having variables of m, b, and x\n",
    "    y = m* x**2 + b #now we mathematically define the function\n",
    "    return y #we command it to return us the function\n",
    "a = np.linspace(-5, 5, 100) #we give it a short name for this particular function, letting m equal 2\n",
    "#b equal 5, and x be a string of 100 equal values between negative 5 and 5\n",
    "y_value = quad(2, 5, a) \n",
    "print(y_value) #we finally command it to show us some values for the function within these parameters\n",
    "\n",
    "\n",
    "plt.plot(a, y_value, 'g--') #color and linestyle must be included in the same 'string'\n",
    "plt.plot(a, y_value, 'green', linestyle = '--', label = 'Line') #this is a slightly different way to do it. linestyle is the keyword,\n",
    "# '--' is the value assigned to the keyword as a string. we can also add a legend as a keyword argument (kwarg)\n",
    "\n",
    "plt.xlabel('x-axis') #greek variables can be entered as plt.xlabel(r'$\\alpha$'). this is a Latex-style command\n",
    "#that can be used in the Matplotlib package of Python. Font size has a default, but we can specify it after the label\n",
    "#plt.xlabel(r'$\\alpha$', fontsize=16)\n",
    "plt.ylabel('y-axis')\n",
    "plt.title('Quadratic Function Plot')\n",
    "plt.legend(loc='lower right', frameon=True) #'loc' moves the legend around, frameon puts a box around the legend\n",
    "fig.savefig('Blakely_Quadratic_Plot.png') #will save the figure in the same directory as this notebook. to send it to\n",
    "#a different directory, we would tell it fig.savefig('directory/filename')\n",
    "plt.show()\n",
    "\n",
    "fig2 # this will create a new figure that i can plot"
   ]
  },
  {
   "cell_type": "markdown",
   "metadata": {},
   "source": [
    "Finally, to save a figure, write fig = plt.figure() before your plot, and before you call plt.show(), write fig.savefig('filename.jpg'). \n"
   ]
  }
 ],
 "metadata": {
  "kernelspec": {
   "display_name": "Python 3",
   "language": "python",
   "name": "python3"
  },
  "language_info": {
   "codemirror_mode": {
    "name": "ipython",
    "version": 3
   },
   "file_extension": ".py",
   "mimetype": "text/x-python",
   "name": "python",
   "nbconvert_exporter": "python",
   "pygments_lexer": "ipython3",
   "version": "3.6.5"
  }
 },
 "nbformat": 4,
 "nbformat_minor": 2
}

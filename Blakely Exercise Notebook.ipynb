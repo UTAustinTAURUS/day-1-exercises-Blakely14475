{
 "cells": [
  {
   "cell_type": "markdown",
   "metadata": {},
   "source": [
    "## Exercises\n",
    "\n",
    "This will be a notebook for you to work through the exercises during the workshop. Feel free to work on these at whatever pace you feel works for you, but I encourage you to work together! Edit the title of this notebook with your name because I will ask you to upload your final notebook to our shared github repository at the end of this workshop.\n",
    "\n",
    "Feel free to google the documentation for numpy, matplotlib, etc.\n",
    "\n",
    "Don't forget to start by importing any libraries you need."
   ]
  },
  {
   "cell_type": "code",
   "execution_count": 11,
   "metadata": {},
   "outputs": [],
   "source": [
    "import numpy as np\n",
    "import astropy\n",
    "import matplotlib.pyplot as plt\n",
    "from scipy import integrate"
   ]
  },
  {
   "cell_type": "markdown",
   "metadata": {},
   "source": [
    "### Day 1\n",
    "\n",
    "#### Exercise 1\n",
    "\n",
    "   A. Create an array with 10 evenly spaced values in logspace ranging from 0.1 to 10,000.\n",
    "\n",
    "   B. Print the following values: The first value in the array, the final value in the array, and the range of 5th-8th values.\n",
    "\n",
    "   C. Append the numbers 10,001 and 10,002 (as floats) to the array. Make sure you define this!\n",
    "\n",
    "   D. Divide your new array by 2.\n",
    "\n",
    "   E. Reshape your array to be 3 x 4. \n",
    "\n",
    "   F. Multiply your array by itself.\n",
    "    \n",
    "   G.  Print out the number of dimensions and the maximum value."
   ]
  },
  {
   "cell_type": "code",
   "execution_count": 9,
   "metadata": {},
   "outputs": [
    {
     "name": "stdout",
     "output_type": "stream",
     "text": [
      "0.1 10000.0 [ 16.68100537  59.94842503 215.443469  ]\n",
      "[10001, 10002]\n",
      "[1.00000000e-01 3.59381366e-01 1.29154967e+00 4.64158883e+00\n",
      " 1.66810054e+01 5.99484250e+01 2.15443469e+02 7.74263683e+02\n",
      " 2.78255940e+03 1.00000000e+04 1.00010000e+04 1.00020000e+04]\n",
      "[[5.00000000e-02 1.79690683e-01 6.45774833e-01 2.32079442e+00]\n",
      " [8.34050269e+00 2.99742125e+01 1.07721735e+02 3.87131841e+02]\n",
      " [1.39127970e+03 5.00000000e+03 5.00050000e+03 5.00100000e+03]]\n",
      "[[2.50000000e-03 3.22887416e-02 4.17025134e-01 5.38608673e+00]\n",
      " [6.95639851e+01 8.98453416e+02 1.16039721e+04 1.49871063e+05]\n",
      " [1.93565921e+06 2.50000000e+07 2.50050002e+07 2.50100010e+07]]\n",
      "2\n"
     ]
    },
    {
     "data": {
      "text/plain": [
       "25010001.0"
      ]
     },
     "execution_count": 9,
     "metadata": {},
     "output_type": "execute_result"
    }
   ],
   "source": [
    "logarray = np.logspace(np.log10(0.1), np.log10(10000), 10) #i have created an array with 10 evenly spaced values\n",
    "#between 0.1 and 10000\n",
    "print(logarray[0], logarray[9], logarray[4:7]) #i want to see the first value, the 10th value, and values 5-8\n",
    "logappend = [10001, 10002] #creating a new list to append onto the array\n",
    "print(logappend) #just wanna make sure that worked...\n",
    "\n",
    "logarrayappend = np.append(logarray, logappend) #creating a new array with the appended list. i realized later that \n",
    "#logarrayappend is a terrible name for an array cause it takes a really long time to type\n",
    "print(logarrayappend) #making sure that worked again lol\n",
    "\n",
    "arrayover2 = logarrayappend / 2 #divide the whole dang thing in half\n",
    "reshaped = arrayover2.reshape(3, 4) #reshaping it into a 3x4 matrix. notably, i printed it before reshaping it, and it\n",
    "#looks like the notebook already wanted it to be a 3x4. whatever\n",
    "print(reshaped) #making sure that worked\n",
    "\n",
    "logmult = reshaped**2 #gonna name a brand new array which is the square of my other arrays...\n",
    "\n",
    "print(logmult) #always makin sure things worked\n",
    "print(logmult.ndim) #okay so the dimension is one..this doesnt make a lot of sense. multiplying logarrayappend by itself is a\n",
    "#dot product, then okay we'll get a single dimension scalar answer. but when we print logmult, it shows a 3x4 matrix.\n",
    "#and we're looking for the maximum value, shown below. that only makes sense if multiplying them was the act of a cross\n",
    "#product. but the cross product of a vector with itself is zero...\n",
    "#It turns out that this act of multiplication is simply multiplying each entry by itself and generating a 3x4 matrix \n",
    "#populated with those products. print(logmult.ndim) results in a 2 being printed because that's the dimension of the\n",
    "#vectors that make up that matrix.\n",
    "\n",
    "np.max(logmult)\n"
   ]
  },
  {
   "cell_type": "markdown",
   "metadata": {},
   "source": [
    "### Day 2"
   ]
  },
  {
   "cell_type": "markdown",
   "metadata": {},
   "source": [
    "#### Exercise 1\n",
    "\n",
    "   A. Create an array containing the values 4, 0, 6, 5, 11, 14, 12, 14, 5, 16.\n",
    "   B. Create a 10x2 array of zeros.\n",
    "   C. Write a for loop that checks if each of the numbers in the first array squared is less than 100. If the statement is true, change that row of your zeros array to equal the number and its square. Hint: you can change the value of an array by stating \"zerosarray[i] = [a number, a number squared]\". \n",
    "   D. Print out the final version of your zeros array.\n",
    "    \n",
    "Hint: should you loop over the elements of the array or the indices of the array?"
   ]
  },
  {
   "cell_type": "code",
   "execution_count": 2,
   "metadata": {},
   "outputs": [
    {
     "name": "stdout",
     "output_type": "stream",
     "text": [
      "[ 4  0  6  5 11 14 12 14  5 16]\n",
      "[[0. 0.]\n",
      " [0. 0.]\n",
      " [0. 0.]\n",
      " [0. 0.]\n",
      " [0. 0.]\n",
      " [0. 0.]\n",
      " [0. 0.]\n",
      " [0. 0.]\n",
      " [0. 0.]\n",
      " [0. 0.]]\n",
      "[[ 4. 16.]\n",
      " [ 0.  0.]\n",
      " [ 6. 36.]\n",
      " [ 5. 25.]\n",
      " [ 0.  0.]\n",
      " [ 0.  0.]\n",
      " [ 0.  0.]\n",
      " [ 0.  0.]\n",
      " [ 5. 25.]\n",
      " [ 0.  0.]]\n"
     ]
    }
   ],
   "source": [
    "array1 = np.array([4, 0, 6, 5, 11, 14, 12, 14, 5, 16]) #we populate our array\n",
    "print(array1)\n",
    "\n",
    "zeroarray = np.zeros((10, 2)) #we create a 10x2 matrix full of zeros\n",
    "print(zeroarray)\n",
    "\n",
    "for n in range(len(array1)): #there are very specific reasons to use n in range(len(array1)) instead of n in array1\n",
    "    #n in array1 focuses on the element (i.e. 4, 0, 6,...), whereas n in range(len(array1)) sorts and works the \n",
    "    #numbers by their index (i.e. 0, 1, 2, 3,...) in order. what we care about is that the matrix we get after all this\n",
    "    #hard work have the same elements in the same order as we started. For that we want to focus on their indices\n",
    "    if array1[n]**2 < 100: #we have to specify that we want the element, not the index, squared. n**2 would square the\n",
    "        #index, and not the element itself\n",
    "        zeroarray[n] = [ array1[n], array1[n]**2 ] #we use n again to specify that for the nth index of array1, \n",
    "        #modify the nth index of zeroarray\n",
    "        \n",
    "print(zeroarray) #make sure that we print zeroarray outside of the for loop, or else it will print it each time it runs\n",
    "#the loop"
   ]
  },
  {
   "cell_type": "markdown",
   "metadata": {},
   "source": [
    "#### Exercise 2\n",
    "    \n",
    "   A. Write a function that takes an array of numbers and spits out the Gaussian distribution. Yes, there is a function for this in Python, but it's good to do this from scratch! This is the equation:\n",
    "    \n",
    "$$ f(x) = \\frac{1}{\\sigma \\sqrt{2\\pi}} \\exp{\\frac{-(x - \\mu)^2}{2\\sigma^2}} $$\n",
    "\n",
    "    (Pi is built into numpy, so call it as np.pi.)\n",
    "\n",
    "   B. Call the function a few different times for different values of mu and sigma, between -10 < x < 10.\n",
    "    \n",
    "   C. Plot each version, making sure they are differentiated with different colors and/or linestyles and include a legend. Btw, here's a list of the customizations available in matplotlib:\n",
    "    \n",
    "    https://matplotlib.org/3.1.0/api/_as_gen/matplotlib.pyplot.plot.html\n",
    "    \n",
    "    https://matplotlib.org/gallery/color/named_colors.html\n",
    "    \n",
    "   D. Save your figure.\n",
    "    \n",
    "If you have multiple lines with plt.plot(), Python will plot all of them together, unless you write plt.show() after each one. I want these all on one plot."
   ]
  },
  {
   "cell_type": "code",
   "execution_count": 30,
   "metadata": {},
   "outputs": [
    {
     "data": {
      "image/png": "[encoded data removed]",
      "text/plain": [
       "<Figure size 432x288 with 1 Axes>"
      ]
     },
     "metadata": {},
     "output_type": "display_data"
    }
   ],
   "source": [
    "#A \n",
    "fig = plt.figure()\n",
    "def distro(p, x, s, m):\n",
    "    y = (1 / (s * ((2 * p)**(1/2)))) * np.exp((-((x - m)**2)) / (2 * (s**2)))\n",
    "    return y\n",
    "\n",
    "#B\n",
    "# -10 < x < 10 in all of these. what values do i want to give sigma? what values can sigma have? s =/= 0.\n",
    "#even if the difference of x - mu is a negative number, it is a squared value, multiplied by negative one. The \n",
    "#denominator inside the exponential function is always positive (sigma is squared), so the term inside the exponential\n",
    "#will *always* be negative, dropping off towards the limit of y = 0. Note that there anywhere x = mu, exp(0) = 1, \n",
    "#and as a result, f(x) = 1/(sigma * sqrt(2 * pi))\n",
    "x = np.linspace(-10, 10, 100) #somehow this line got deleted after my plot was complete, completely ruining the code\n",
    "y_value1 = distro(np.pi, np.linspace(-10, 10, 100), 1, 1)\n",
    "y_value2 = distro(np.pi, np.linspace(-10, 10, 100), 2, 2)\n",
    "y_value3 = distro(np.pi, np.linspace(-10, 10, 100), 3, 3)\n",
    "y_value4 = distro(np.pi, np.linspace(-10, 10, 100), 4, 4)\n",
    "y_value5 = distro(np.pi, np.linspace(-10, 10, 100), 5, 5)\n",
    "\n",
    "\n",
    "#C\n",
    "plt.plot(x, y_value1, 'g-', label = '(σ, μ) = (1, 1)')\n",
    "plt.plot(x, y_value2, 'b-', label = '(σ, μ) = (2, 2)')\n",
    "plt.plot(x, y_value3, 'r-', label = '(σ, μ) = (3, 3)')\n",
    "plt.plot(x, y_value4, 'orange', linestyle = '-', label = '(σ, μ) = (4, 4)')\n",
    "plt.plot(x, y_value5, 'purple', linestyle = '-', label = '(σ, μ) = (5, 5)')\n",
    "plt.xlabel('x-axis') #i actually want to make some further changes to this to spruce it up. for instance, i'd like a \n",
    "#legend showing that the sigma and mu values vary for each one. But I did this in only an hour and a half this morning\n",
    "#and i'm pretty proud of it\n",
    "plt.ylabel('y-axis')\n",
    "plt.title('Gaussian Distribution Plot')\n",
    "plt.legend(loc='upper right', frameon=True)\n",
    "\n",
    "#D\n",
    "fig.savefig('Blakely_Gaussian_Plot.png')\n",
    "plt.show()"
   ]
  },
  {
   "cell_type": "markdown",
   "metadata": {},
   "source": [
    "### Day 3\n",
    "\n",
    "#### Exercise 1\n",
    "\n",
    "There is a file in this directory called \"histogram_exercise.dat\" which consists of of randomly generated samples from a Gaussian distribution with an unknown $\\mu$ and $\\sigma$. Using what you've learned about fitting data, load up this file using np.genfromtxt, fit a Gaussian curve to the data and plot both the curve and the histogram of the data. As always, label everything, play with the colors, and choose a judicious bin size. \n",
    "\n",
    "Hint: if you attempt to call a function from a library or package that hasn't been imported, you will get an error."
   ]
  },
  {
   "cell_type": "code",
   "execution_count": null,
   "metadata": {},
   "outputs": [],
   "source": [
    "# your solution here"
   ]
  },
  {
   "cell_type": "markdown",
   "metadata": {},
   "source": [
    "#### Exercise 2\n",
    "\n",
    "Create a 1D interpolation along these arrays. Plot both the data (as points) and the interpolation (as a dotted line). Also plot the value of the interpolated function at x=325. What does the function look like to you?"
   ]
  },
  {
   "cell_type": "code",
   "execution_count": null,
   "metadata": {},
   "outputs": [],
   "source": [
    "x = np.array([0., 50., 100., 150., 200., 250., 300., 350., 400., 450., 500])\n",
    "y = np.array([0., 7.071, 10., 12.247, 14.142, 15.811, 17.321, 18.708, 20., 21.213, 22.361])\n",
    "\n",
    "# solution here"
   ]
  },
  {
   "cell_type": "markdown",
   "metadata": {},
   "source": [
    "### Day 4\n",
    "\n",
    "#### Exercise 1\n",
    "\n",
    "Let's practice some more plotting skills, now incorporating units. \n",
    "\n",
    "A. Write a function that takes an array of frequencies and spits out the Planck distribution. That's this equation:\n",
    "\n",
    "$$ B(\\nu, T) = \\frac{2h\\nu^3/c^2}{e^{\\frac{h\\nu}{k_B T}} - 1} $$\n",
    "\n",
    "This requires you to use the Planck constant, the Boltzmann constant, and the speed of light from astropy. Make sure they are all in cgs. \n",
    "    \n",
    "B. Plot your function in log-log space for T = 25, 50, and 300 K. The most sensible frequency range is about 10^5 to 10^15 Hz. Hint: if your units are correct, your peak values of B(T) should be on the order of 10^-10. Make sure everything is labelled. "
   ]
  },
  {
   "cell_type": "code",
   "execution_count": null,
   "metadata": {},
   "outputs": [],
   "source": [
    "# solution here"
   ]
  },
  {
   "cell_type": "markdown",
   "metadata": {},
   "source": [
    "#### Exercise 2\n",
    "\n",
    "Let's put everything together now! Here's a link to the full documentation for FITSFigure, which will tell you all of the customizable options: http://aplpy.readthedocs.io/en/stable/api/aplpy.FITSFigure.html. Let's create a nice plot of M51 with a background optical image and X-ray contours overplotted.\n",
    "\n",
    "The data came from here if you're interested: http://chandra.harvard.edu/photo/openFITS/multiwavelength_data.html\n",
    "\n",
    "A. Using astropy, open the X-RAY data (m51_xray.fits). Flatten the data array and find its standard deviation, and call it sigma.\n",
    "\n",
    "B. Using aplpy, plot a colorscale image of the OPTICAL data. Choose a colormap that is visually appealing (list of them here: https://matplotlib.org/2.0.2/examples/color/colormaps_reference.html). Show the colorbar. \n",
    "\n",
    "C. Plot the X-ray data as contours above the optical image. Make the contours spring green with 80% opacity and dotted lines. Make the levels go from 2$\\sigma$ to 10$\\sigma$ in steps of 2$\\sigma$. (It might be easier to define the levels array before show_contours, and set levels=levels.)"
   ]
  },
  {
   "cell_type": "code",
   "execution_count": null,
   "metadata": {},
   "outputs": [],
   "source": [
    "# solution here"
   ]
  }
 ],
 "metadata": {
  "kernelspec": {
   "display_name": "Python 3",
   "language": "python",
   "name": "python3"
  },
  "language_info": {
   "codemirror_mode": {
    "name": "ipython",
    "version": 3
   },
   "file_extension": ".py",
   "mimetype": "text/x-python",
   "name": "python",
   "nbconvert_exporter": "python",
   "pygments_lexer": "ipython3",
   "version": "3.6.5"
  }
 },
 "nbformat": 4,
 "nbformat_minor": 2
}
